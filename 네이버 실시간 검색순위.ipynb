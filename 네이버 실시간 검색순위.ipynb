{
 "cells": [
  {
   "cell_type": "code",
   "execution_count": 52,
   "metadata": {},
   "outputs": [],
   "source": [
    "import urllib\n",
    "import time\n",
    "from bs4 import BeautifulSoup\n",
    "from selenium import webdriver\n",
    "\n",
    "driver = webdriver.Chrome('C:\\chromedriver')\n",
    "driver.implicitly_wait(3)\n",
    "\n",
    "driver.get('https://www.naver.com/')\n",
    "html = driver.page_source\n",
    "soup = BeautifulSoup(html, 'html.parser')"
   ]
  },
  {
   "cell_type": "code",
   "execution_count": 62,
   "metadata": {},
   "outputs": [
    {
     "name": "stdout",
     "output_type": "stream",
     "text": [
      "2019년 6월 22일 17시 16분 24초\n",
      "네이버 실시간 검색순위\n",
      "=============================\n",
      "1위: 서버비콘\n",
      "2위: 한지성\n",
      "3위: 인플루언서\n",
      "4위: 11번가 포인트데이\n",
      "5위: 아이린\n",
      "6위: 한상희프로\n",
      "7위: 피트니스 모델\n",
      "8위: 서민갑부 메밀국수\n",
      "9위: 하지\n",
      "10위: 킬포어 모공관리기\n",
      "11위: 정혁\n",
      "12위: 이현이\n",
      "13위: 음악중심\n",
      "14위: 광주 날씨\n",
      "15위: 정태수\n",
      "16위: 쇼음악중심\n",
      "17위: 김진경\n",
      "18위: 모델 아이린\n",
      "19위: 토이스토리4 쿠키\n",
      "20위: 장윤주\n",
      "21위: 서버비콘\n"
     ]
    }
   ],
   "source": [
    "from datetime import datetime\n",
    "now = datetime.now()\n",
    "\n",
    "print ( '%s년 %s월 %s일 %s시 %s분 %s초' % ( now.year, now.month, now.day, now.hour, now.minute, now.second ) )\n",
    "print ( \"네이버 실시간 검색순위\" )\n",
    "print ( \"=============================\")\n",
    "\n",
    "search = soup.select('#PM_ID_ct > div.header > div.section_navbar > div.area_hotkeyword.PM_CL_realtimeKeyword_base > div.ah_roll.PM_CL_realtimeKeyword_rolling_base > div > ul > li > a > span.ah_k')\n",
    "count = 1\n",
    "\n",
    "for n in search :\n",
    "    print(str(count)+\"위: \"+n.get_text())\n",
    "    count+=1"
   ]
  },
  {
   "cell_type": "code",
   "execution_count": null,
   "metadata": {},
   "outputs": [],
   "source": []
  },
  {
   "cell_type": "code",
   "execution_count": null,
   "metadata": {},
   "outputs": [],
   "source": []
  }
 ],
 "metadata": {
  "kernelspec": {
   "display_name": "Python 3",
   "language": "python",
   "name": "python3"
  },
  "language_info": {
   "codemirror_mode": {
    "name": "ipython",
    "version": 3
   },
   "file_extension": ".py",
   "mimetype": "text/x-python",
   "name": "python",
   "nbconvert_exporter": "python",
   "pygments_lexer": "ipython3",
   "version": "3.7.3"
  }
 },
 "nbformat": 4,
 "nbformat_minor": 2
}
